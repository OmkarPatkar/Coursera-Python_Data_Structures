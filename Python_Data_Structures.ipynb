{
  "nbformat": 4,
  "nbformat_minor": 0,
  "metadata": {
    "colab": {
      "name": "Python_Data_Structures.ipynb",
      "provenance": [],
      "toc_visible": true,
      "mount_file_id": "1PR6pw_7v1RjBIsKb_F1H6jr1X7bD7lVR",
      "authorship_tag": "ABX9TyMEFDbhfJLO/Dfgooxx9SST",
      "include_colab_link": true
    },
    "kernelspec": {
      "name": "python3",
      "display_name": "Python 3"
    }
  },
  "cells": [
    {
      "cell_type": "markdown",
      "metadata": {
        "id": "view-in-github",
        "colab_type": "text"
      },
      "source": [
        "<a href=\"https://colab.research.google.com/github/OmkarPatkar/Coursera-Python_Data_Structures/blob/master/Python_Data_Structures.ipynb\" target=\"_parent\"><img src=\"https://colab.research.google.com/assets/colab-badge.svg\" alt=\"Open In Colab\"/></a>"
      ]
    },
    {
      "cell_type": "markdown",
      "metadata": {
        "id": "2iydE2s9X1zM",
        "colab_type": "text"
      },
      "source": [
        "#**Python Data Structures**"
      ]
    },
    {
      "cell_type": "markdown",
      "metadata": {
        "id": "gm0u7U1kUpgq",
        "colab_type": "text"
      },
      "source": [
        "* Download the data files from the given links."
      ]
    },
    {
      "cell_type": "markdown",
      "metadata": {
        "id": "3iFOTDAlbOEK",
        "colab_type": "text"
      },
      "source": [
        "**ASSIGNMENT OF WEEK 1**"
      ]
    },
    {
      "cell_type": "markdown",
      "metadata": {
        "id": "u71QfuwaYLl5",
        "colab_type": "text"
      },
      "source": [
        "* Write code using find() and string slicing (see section 6.10) to extract the number at the end of the line below. Convert the extracted value to a floating point number and print it out."
      ]
    },
    {
      "cell_type": "code",
      "metadata": {
        "id": "s3Ew1gthYYuO",
        "colab_type": "code",
        "outputId": "c7ca7053-1400-475a-dd04-33cfd361eec7",
        "colab": {
          "base_uri": "https://localhost:8080/",
          "height": 34
        }
      },
      "source": [
        "text = \"X-DSPAM-Confidence:    0.8475\"\n",
        "pos = text.find('0')\n",
        "fval = text[pos:pos+6]\n",
        "print(float(fval))"
      ],
      "execution_count": 1,
      "outputs": [
        {
          "output_type": "stream",
          "text": [
            "0.8475\n"
          ],
          "name": "stdout"
        }
      ]
    },
    {
      "cell_type": "markdown",
      "metadata": {
        "id": "UZt4ExLGbjuV",
        "colab_type": "text"
      },
      "source": [
        "**ASSIGNMENT OF WEEK 3**"
      ]
    },
    {
      "cell_type": "markdown",
      "metadata": {
        "id": "w8DK8trRYjTR",
        "colab_type": "text"
      },
      "source": [
        "* Write a program that prompts for a file name, then opens that file and reads through the file, and print the contents of the file in upper case. Use the file words.txt to produce the output below.\n",
        "You can download the sample data at http://www.py4e.com/code3/words.txt"
      ]
    },
    {
      "cell_type": "code",
      "metadata": {
        "id": "M6nA8wMDYrti",
        "colab_type": "code",
        "colab": {}
      },
      "source": [
        "fh = input(\"enter file name: \")\n",
        "f = open(fh)\n",
        "for line in f:\n",
        "    line = line.rstrip()\n",
        "    print(line.upper())"
      ],
      "execution_count": 0,
      "outputs": []
    },
    {
      "cell_type": "markdown",
      "metadata": {
        "id": "5ufAqgJeY7AT",
        "colab_type": "text"
      },
      "source": [
        "* Write a program that prompts for a file name, then opens that file and reads through the file, looking for lines of the form:\n",
        "X-DSPAM-Confidence:    0.8475\n",
        "Count these lines and extract the floating point values from each of the lines and compute the average of those values and produce an output as shown below. Do not use the sum() function or a variable named sum in your solution.\n",
        "You can download the sample data at http://www.py4e.com/code3/mbox-short.txt when you are testing below enter mbox-short.txt as the file name."
      ]
    },
    {
      "cell_type": "code",
      "metadata": {
        "id": "aCIWKoStZCby",
        "colab_type": "code",
        "colab": {}
      },
      "source": [
        "# Use the file name mbox-short.txt as the file name\n",
        "fname = input(\"Enter file name: \")\n",
        "fh = open(fname)\n",
        "count = 0\n",
        "y=0.0\n",
        "for line in fh:\n",
        "    if not line.startswith(\"X-DSPAM-Confidence:\") : continue\n",
        "    count = count+1\n",
        "    t = line.find('0')\n",
        "    x=float(line[t:])\n",
        "    y = y + x\n",
        "    avg = y / count\n",
        "    \n",
        "print(\"Average spam confidence:\",avg)"
      ],
      "execution_count": 0,
      "outputs": []
    },
    {
      "cell_type": "markdown",
      "metadata": {
        "id": "KmGzgDeLboKs",
        "colab_type": "text"
      },
      "source": [
        "**ASSIGNMENT OF WEEK 4**"
      ]
    },
    {
      "cell_type": "markdown",
      "metadata": {
        "id": "AEnIdnjeZOWQ",
        "colab_type": "text"
      },
      "source": [
        "* Open the file romeo.txt and read it line by line. For each line, split the line into a list of words using the split() method. The program should build a list of words. For each word on each line check to see if the word is already in the list and if not append it to the list. When the program completes, sort and print the resulting words in alphabetical order.\n",
        "You can download the sample data at http://www.py4e.com/code3/romeo.txt"
      ]
    },
    {
      "cell_type": "code",
      "metadata": {
        "id": "iAMaCdVbZYai",
        "colab_type": "code",
        "colab": {}
      },
      "source": [
        "fname = input(\"Enter file name: \")\n",
        "fh = open(fname)\n",
        "lst = list()\n",
        "\n",
        "for line in fh:\n",
        "    li = line.rstrip()\n",
        "   \n",
        "    for word in li.split():\n",
        "        if word not in lst:\n",
        "            lst.append(word)\n",
        "\n",
        "lst.sort()  \n",
        "print(lst)"
      ],
      "execution_count": 0,
      "outputs": []
    },
    {
      "cell_type": "markdown",
      "metadata": {
        "id": "sfL4KmLuZ1bC",
        "colab_type": "text"
      },
      "source": [
        "* Open the file mbox-short.txt and read it line by line. When you find a line that starts with 'From ' like the following line:\n",
        "From stephen.marquard@uct.ac.za Sat Jan  5 09:14:16 2008\n",
        "You will parse the From line using split() and print out the second word in the line (i.e. the entire address of the person who sent the message). Then print out a count at the end.\n",
        "Hint: make sure not to include the lines that start with 'From:'.\n",
        "\n",
        "You can download the sample data at http://www.py4e.com/code3/mbox-short.txt"
      ]
    },
    {
      "cell_type": "code",
      "metadata": {
        "id": "arqp7jzWaATD",
        "colab_type": "code",
        "colab": {}
      },
      "source": [
        "fname = input(\"Enter file name: \")\n",
        "if len(fname) < 1 : fname = \"mbox-short.txt\"\n",
        "    \n",
        "fh = open(fname)\n",
        "count = 0\n",
        "\n",
        "for line in fh:\n",
        "    if not line.startswith('From'):\n",
        "        continue\n",
        "    line = line.split()\n",
        "    \n",
        "    if line[0] == 'From':\n",
        "        count = count + 1\n",
        "        print(line[1])\n",
        "\n",
        "print(\"There were\", count, \"lines in the file with From as the first word\")"
      ],
      "execution_count": 0,
      "outputs": []
    },
    {
      "cell_type": "markdown",
      "metadata": {
        "id": "V5RBUox_br7m",
        "colab_type": "text"
      },
      "source": [
        "**ASSIGNMENT OF WEEK 5**"
      ]
    },
    {
      "cell_type": "markdown",
      "metadata": {
        "id": "TQ0R6d2maPcH",
        "colab_type": "text"
      },
      "source": [
        "* Write a program to read through the mbox-short.txt and\n",
        "figure out who has sent the greatest number of mail messages. The program looks for 'From ' lines and takes the second word of those lines as the person who sent the mail. The program creates a Python dictionary that maps the sender's mail address to a count of the number of times they appear in the file. After the dictionary is produced, the program reads through the dictionary using a maximum loop to find the most prolific committer."
      ]
    },
    {
      "cell_type": "code",
      "metadata": {
        "id": "HGJmH-BuaYQF",
        "colab_type": "code",
        "colab": {}
      },
      "source": [
        "name = input(\"Enter file:\")\n",
        "if len(name) < 1 : name = \"mbox-short.txt\"\n",
        "handle = open(name)\n",
        "\n",
        "count = 0\n",
        "d = dict()\n",
        "\n",
        "for line in handle:\n",
        "    if not line.startswith('From'):continue\n",
        "    line = line.split()\n",
        "    if line[0] == 'From':\n",
        "        line1 =  line[1]\n",
        "        for word in line1.split():\n",
        "            d[word] = d.get(word, 0) + 1\n",
        "        \n",
        "        count = count + 1\n",
        "        \n",
        "maxx = None\n",
        "k = None\n",
        "for key,value in d.items():\n",
        "    \n",
        "    if maxx is None or value > maxx:\n",
        "        maxx = value\n",
        "        k = key\n",
        "print(k,maxx)"
      ],
      "execution_count": 0,
      "outputs": []
    },
    {
      "cell_type": "markdown",
      "metadata": {
        "id": "zFo3pcNVbw8Y",
        "colab_type": "text"
      },
      "source": [
        "**ASSIGNMENT OF WEEK 6**"
      ]
    },
    {
      "cell_type": "markdown",
      "metadata": {
        "id": "KaxSZD9ha4Mb",
        "colab_type": "text"
      },
      "source": [
        "* Write a program to read through the mbox-short.txt and figure out the distribution by hour of the day for each of the messages. You can pull the hour out from the 'From ' line by finding the time and then splitting the string a second time using a colon.\n",
        "From stephen.marquard@uct.ac.za Sat Jan  5 09:14:16 2008\n",
        "Once you have accumulated the counts for each hour, print out the counts, sorted by hour as shown below."
      ]
    },
    {
      "cell_type": "code",
      "metadata": {
        "id": "Th5ib_OqYcwU",
        "colab_type": "code",
        "colab": {}
      },
      "source": [
        "\n",
        "name = input(\"Enter file:\")\n",
        "if len(name) < 1 : name = \"mbox-short.txt\"\n",
        "handle = open(name)\n",
        "d = dict()\n",
        "\n",
        "for line in handle:\n",
        "    if not line.startswith('From'):\n",
        "        continue\n",
        "    line = line.rstrip()\n",
        "    line = line.split()\n",
        "    \n",
        "    if line[0] == 'From':\n",
        "        line = line[5].split(\":\")\n",
        "\n",
        "        for hrs in line[0].split():\n",
        "            d[hrs] = d.get(hrs, 0) + 1\n",
        "        \n",
        "\n",
        "for key, val in sorted(d.items()):\n",
        "    print(key, val)\n"
      ],
      "execution_count": 0,
      "outputs": []
    },
    {
      "cell_type": "code",
      "metadata": {
        "id": "Y6bYJEy8Reh1",
        "colab_type": "code",
        "colab": {}
      },
      "source": [
        ""
      ],
      "execution_count": 0,
      "outputs": []
    }
  ]
}